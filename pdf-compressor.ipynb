{
  "nbformat": 4,
  "nbformat_minor": 0,
  "metadata": {
    "colab": {
      "provenance": []
    },
    "kernelspec": {
      "name": "python3",
      "display_name": "Python 3"
    },
    "language_info": {
      "name": "python"
    }
  },
  "cells": [
    {
      "cell_type": "code",
      "source": [
        "!pip install pymupdf\n",
        "!pip install pillow"
      ],
      "metadata": {
        "colab": {
          "base_uri": "https://localhost:8080/"
        },
        "id": "qJzhHDlZIR4K",
        "outputId": "6d76e679-aec8-4aab-8f79-2c4953f0348f"
      },
      "execution_count": null,
      "outputs": [
        {
          "output_type": "stream",
          "name": "stdout",
          "text": [
            "Requirement already satisfied: pymupdf in /usr/local/lib/python3.10/dist-packages (1.24.12)\n",
            "Requirement already satisfied: pillow in /usr/local/lib/python3.10/dist-packages (10.4.0)\n"
          ]
        }
      ]
    },
    {
      "cell_type": "code",
      "source": [
        "import fitz\n",
        "from PIL import Image\n",
        "from io import BytesIO"
      ],
      "metadata": {
        "id": "vSTHqQRQISzp"
      },
      "execution_count": null,
      "outputs": []
    },
    {
      "cell_type": "code",
      "source": [
        "def compress_pdf(input_pdf, output_pdf, dpi=72, quality=50):\n",
        "    \"\"\"\n",
        "    Compress a PDF by reducing image resolution and quality.\n",
        "\n",
        "    Args:\n",
        "        input_pdf (str): Path to the input PDF file.\n",
        "        output_pdf (str): Path to save the compressed output PDF.\n",
        "        dpi (int): Resolution for compressing images (default is 72).\n",
        "        quality (int): JPEG quality for compressing images (default is 50, lower means more compression).\n",
        "    \"\"\"\n",
        "    # Open the input PDF\n",
        "    doc = fitz.open(input_pdf)\n",
        "\n",
        "    # Create a new PDF document to store the compressed pages\n",
        "    compressed_doc = fitz.open()\n",
        "\n",
        "    # Iterate through each page in the document\n",
        "    for page_num in range(len(doc)):\n",
        "        page = doc.load_page(page_num)\n",
        "        # Create a new page in the compressed document with the same dimensions\n",
        "        new_page = compressed_doc.new_page(width=page.rect.width, height=page.rect.height)\n",
        "\n",
        "        # Get image list for each page\n",
        "        image_list = page.get_images(full=True)\n",
        "\n",
        "        # Compress each image on the page\n",
        "        for img_index, img in enumerate(image_list):\n",
        "            xref = img[0]  # XREF is the reference number for the image\n",
        "\n",
        "            # Extract the image data\n",
        "            base_image = doc.extract_image(xref)\n",
        "            image_bytes = base_image[\"image\"]\n",
        "\n",
        "            # Open the image using PIL for compression\n",
        "            image = Image.open(BytesIO(image_bytes))\n",
        "\n",
        "            # Downscale image dimensions based on DPI (reduce image resolution)\n",
        "            original_size = image.size\n",
        "            new_size = (int(original_size[0] * dpi / 300), int(original_size[1] * dpi / 300))\n",
        "            image = image.resize(new_size, Image.Resampling.LANCZOS)  # Updated from Image.ANTIALIAS\n",
        "\n",
        "            # Convert to RGB if necessary (many PDFs store images in different formats)\n",
        "            if image.mode in (\"RGBA\", \"P\"):\n",
        "                image = image.convert(\"RGB\")\n",
        "\n",
        "            # Compress image by reducing resolution and saving with adjusted DPI\n",
        "            img_buffer = BytesIO()\n",
        "            image.save(img_buffer, format=\"JPEG\", quality=quality, dpi=(dpi, dpi))  # Compress the image\n",
        "            img_buffer.seek(0)\n",
        "\n",
        "            # Insert the compressed image into the new page\n",
        "            new_page.insert_image(page.rect, stream=img_buffer.read())\n",
        "\n",
        "    # Save the new compressed PDF\n",
        "    compressed_doc.save(output_pdf)\n",
        "    compressed_doc.close()\n",
        "    doc.close()\n",
        "\n",
        "    print(f\"PDF compression completed. Saved as {output_pdf}\")"
      ],
      "metadata": {
        "id": "NAijAxsfIU-p"
      },
      "execution_count": null,
      "outputs": []
    },
    {
      "cell_type": "code",
      "source": [
        "# Example usage:\n",
        "input_pdf = \"/content/24102024163001(38mb).pdf\"\n",
        "output_pdf = \"compressed_output.pdf\"\n",
        "\n",
        "# Call the function with the desired DPI and quality\n",
        "desired_dpi = 72  # Adjust the DPI as needed (lower DPI means lower resolution)\n",
        "jpeg_quality = 80  # Lower the quality for more compression (0 to 100)\n",
        "compress_pdf(input_pdf, output_pdf, dpi=desired_dpi, quality=jpeg_quality)"
      ],
      "metadata": {
        "colab": {
          "base_uri": "https://localhost:8080/"
        },
        "id": "QmX6GxS5IXrJ",
        "outputId": "27f9d3fe-ab15-46dc-f8ee-cc4f39c53a74"
      },
      "execution_count": null,
      "outputs": [
        {
          "output_type": "stream",
          "name": "stdout",
          "text": [
            "PDF compression completed. Saved as compressed_output.pdf\n"
          ]
        }
      ]
    }
  ]
}